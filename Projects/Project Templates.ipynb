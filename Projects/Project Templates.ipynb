{
 "cells": [
  {
   "cell_type": "markdown",
   "metadata": {},
   "source": [
    "# General Framework for Personal Projects"
   ]
  },
  {
   "cell_type": "markdown",
   "metadata": {},
   "source": [
    "Credit to the wonderful post [Don’t Do Data Science, Solve Business Problems](https://towardsdatascience.com/dont-do-data-science-solve-business-problems-6b70c4ee0083) by [Cameron Warren\n",
    "](https://towardsdatascience.com/@camwarrenm), as well as the post[Solve Business Problems with Data Science](https://medium.com/@jameschen_78678/solve-business-problems-with-data-science-155534b1995d) by [James Chen](https://medium.com/@jameschen_78678),  it's important not to learn how to implement machine learning models, but to solve real business problems. \n",
    "\n",
    "In this section, in each project I will follow the general framework below:"
   ]
  },
  {
   "cell_type": "markdown",
   "metadata": {},
   "source": [
    "1. **`Define Business Problems`**\n",
    "\n",
    "The main goal here is to clearly define what the busines problems are. If there's no clear business value or strategic goal, all the work will be simply futile. Defining the main goal in advance also helps limiting the scope of the problem, making it possible to solve a complicated business problem piece by piece. Only after clarifying the business problem can we understand what to do next.\n",
    "\n",
    "2. **`Outline Analytics Objectives`**\n",
    "\n",
    "There are plenty of algorithms out there that might suit your problem, or probably only a limited amount of them fit in. It's data scientist's responsibility to define the objective of this problem and which model to implement. Is supervised or unsupervised more applicable? Is this a regression problem or a classification one? How should I define the target metric if there's no clear one?\n",
    "\n",
    "Step 1 and 2 can be an iterativd process, as the initial business problem might be infeasible or not well-defined. Only after the problem and object are well-defined can we start the modeling process.\n",
    "\n",
    "\n",
    "3. **`Prepare Data for Modeling`**\n",
    "\n",
    "This process includes **Data Collection**, **Data cleansing** and **Feature Engineering**.\n",
    "\n",
    "In the real world data collection is an important topic, especially for those companies that are not internet-based. In this repository, most of the data are collected via open data sources and will be pointed out to maintain reproducibility. I will also try to discuss some idea about how to collect data in practice.\n",
    "\n",
    "Data cleansing and feature enginnering are known to be the processes that require the most amount of time, especially in the real world. I will try to go through these complex process via concise code with reasoning.\n",
    "\n",
    "\n",
    "4. **`Develop Machine Learning Model`**\n",
    "\n",
    "In this section I will compile the model to solve this problem. The complexity of the model depends on whether the main idea of this topic is about the model itself. If not, simple and quick benchmark model will be implemented and will likely not be optimized.\n",
    "\n",
    "\n",
    "5. **`Evaluation and Notes for Future Improvement`**\n",
    "\n",
    "In this last section, I will try to evaluate our result based on the business problem defined in the first step. Does our solution really solve the problem at hand? What are some other potential improvements that can work better? Different modeling technique? Another analytics objectives?"
   ]
  },
  {
   "cell_type": "markdown",
   "metadata": {},
   "source": [
    "---"
   ]
  },
  {
   "cell_type": "markdown",
   "metadata": {},
   "source": [
    "# Template\n",
    "\n",
    "Reference: [jupytemplate](https://github.com/xtreamsrl/jupytemplate)."
   ]
  },
  {
   "cell_type": "markdown",
   "metadata": {},
   "source": [
    "# 1. Project Overview"
   ]
  },
  {
   "cell_type": "markdown",
   "metadata": {},
   "source": [
    "### 1.1 Context of the Problem\n",
    "\n",
    "State the context of the business problem. "
   ]
  },
  {
   "cell_type": "markdown",
   "metadata": {},
   "source": [
    "### 1.2 Methodology (Analytics Objective)\n",
    "\n",
    "Describe the assumptions made and methodology used."
   ]
  },
  {
   "cell_type": "markdown",
   "metadata": {},
   "source": [
    "### 1.3 Expected Results and Values\n",
    "\n",
    "Describe and comment the most important expected results you have as well as the business value."
   ]
  },
  {
   "cell_type": "markdown",
   "metadata": {},
   "source": [
    "---"
   ]
  },
  {
   "cell_type": "markdown",
   "metadata": {},
   "source": [
    "## 2. Data Preparation"
   ]
  },
  {
   "cell_type": "markdown",
   "metadata": {},
   "source": [
    "### 2.1 Notebook Setting"
   ]
  },
  {
   "cell_type": "markdown",
   "metadata": {},
   "source": [
    "### 2.2 Load Data"
   ]
  },
  {
   "cell_type": "markdown",
   "metadata": {},
   "source": [
    "### 2.3 Data Cleansing"
   ]
  },
  {
   "cell_type": "markdown",
   "metadata": {},
   "source": [
    "### 2.4 Feature Engineering"
   ]
  },
  {
   "cell_type": "markdown",
   "metadata": {},
   "source": [
    "---"
   ]
  },
  {
   "cell_type": "markdown",
   "metadata": {},
   "source": [
    "## 3. Modeling"
   ]
  },
  {
   "cell_type": "markdown",
   "metadata": {},
   "source": [
    "### 3.1 Benchmark Model Development"
   ]
  },
  {
   "cell_type": "markdown",
   "metadata": {},
   "source": [
    "### 3.2 Model Optimization"
   ]
  },
  {
   "cell_type": "markdown",
   "metadata": {},
   "source": [
    "### 3.3 Model Evaluation"
   ]
  },
  {
   "cell_type": "markdown",
   "metadata": {},
   "source": [
    "---"
   ]
  },
  {
   "cell_type": "markdown",
   "metadata": {},
   "source": [
    "## 4. References"
   ]
  }
 ],
 "metadata": {
  "kernelspec": {
   "display_name": "Python 3",
   "language": "python",
   "name": "python3"
  },
  "language_info": {
   "codemirror_mode": {
    "name": "ipython",
    "version": 3
   },
   "file_extension": ".py",
   "mimetype": "text/x-python",
   "name": "python",
   "nbconvert_exporter": "python",
   "pygments_lexer": "ipython3",
   "version": "3.7.6"
  }
 },
 "nbformat": 4,
 "nbformat_minor": 4
}
