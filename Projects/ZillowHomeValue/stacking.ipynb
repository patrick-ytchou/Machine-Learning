{
 "cells": [
  {
   "cell_type": "markdown",
   "metadata": {},
   "source": [
    "# Model Stacking\n",
    "\n",
    "In this notebook, what I will do is to take a linear combination between the result of the the models and try to see if we can get a high score out of this method."
   ]
  },
  {
   "cell_type": "code",
   "execution_count": 4,
   "metadata": {},
   "outputs": [],
   "source": [
    "import numpy as np\n",
    "import pandas as pd"
   ]
  },
  {
   "cell_type": "code",
   "execution_count": 6,
   "metadata": {},
   "outputs": [
    {
     "name": "stdout",
     "output_type": "stream",
     "text": [
      "Finished Loading the prediction results.\n",
      "Now start stacking for weight 0.1\n",
      "Now start stacking for weight 0.2\n",
      "Now start stacking for weight 0.3\n",
      "Now start stacking for weight 0.4\n",
      "Now start stacking for weight 0.5\n",
      "Now start stacking for weight 0.6\n",
      "Now start stacking for weight 0.7\n",
      "Now start stacking for weight 0.8\n",
      "Now start stacking for weight 0.9\n",
      "Finished Stacking.\n"
     ]
    }
   ],
   "source": [
    "lgb = pd.read_csv('submission/final_lgb.csv')\n",
    "cat = pd.read_csv('submission/final_cat.csv')\n",
    "print(\"Finished Loading the prediction results.\")\n",
    "\n",
    "for weight in np.linspace(0.1, 0.9, 9):\n",
    "    print('Now start stacking for weight ' + str(np.round(weight,1)))\n",
    "    stack = pd.DataFrame()\n",
    "    stack['ParcelId'] = lgb['ParcelId']\n",
    "    for col in ['201610', '201611', '201612', '201710', '201711', '201712']:\n",
    "        stack[col] = weight * cat[col] + (1 - weight) * lgb[col]\n",
    "    stack.to_csv(f'submission/final_stack_{weight}.csv', index=False)\n",
    "print(\"Finished Stacking.\")"
   ]
  },
  {
   "cell_type": "markdown",
   "metadata": {},
   "source": [
    "It turns out the best result is the stacking result with the following linear combination.\n",
    "\n",
    "\n",
    "$$ Best = 0.6 \\times CatBoost + 0.4 \\times LightGBM $$ "
   ]
  }
 ],
 "metadata": {
  "kernelspec": {
   "display_name": "Python 3",
   "language": "python",
   "name": "python3"
  },
  "language_info": {
   "codemirror_mode": {
    "name": "ipython",
    "version": 3
   },
   "file_extension": ".py",
   "mimetype": "text/x-python",
   "name": "python",
   "nbconvert_exporter": "python",
   "pygments_lexer": "ipython3",
   "version": "3.7.7"
  }
 },
 "nbformat": 4,
 "nbformat_minor": 4
}
