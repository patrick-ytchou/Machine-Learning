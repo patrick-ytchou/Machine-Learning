{
 "cells": [
  {
   "cell_type": "markdown",
   "metadata": {},
   "source": [
    "**[TensorBoard: TensorFlow's visualization toolkit](https://www.tensorflow.org/tensorboard)**\n",
    "\n",
    "For more information check out the [PyTorch documentation about TensorBoard](https://pytorch.org/docs/stable/tensorboard).\n",
    "\n",
    "## Construct Neural Network"
   ]
  },
  {
   "cell_type": "code",
   "execution_count": 20,
   "metadata": {},
   "outputs": [],
   "source": [
    "import torch\n",
    "import torch.nn as nn\n",
    "import torchvision\n",
    "import torchvision.transforms as transforms\n",
    "import matplotlib.pyplot as plt\n",
    "from torch.utils.tensorboard import SummaryWriter"
   ]
  },
  {
   "cell_type": "code",
   "execution_count": 38,
   "metadata": {},
   "outputs": [],
   "source": [
    "# device and tensorboard writer config\n",
    "device = torch.device('cuda' if torch.cuda.is_available() else 'cpu')\n",
    "writer = SummaryWriter(\"runs/mnist\")\n",
    "\n",
    "# hyperparameters\n",
    "input_size = 784  # 28 * 28\n",
    "hidden_size = 100\n",
    "num_classes = 10\n",
    "n_epochs = 2\n",
    "batch_size = 64\n",
    "learning_rate = 0.01"
   ]
  },
  {
   "cell_type": "code",
   "execution_count": 39,
   "metadata": {},
   "outputs": [],
   "source": [
    "# load MNIST dataset\n",
    "train_dataset = torchvision.datasets.MNIST(root='./data', train=True,\n",
    "                                          transform=transforms.ToTensor(),\n",
    "                                          download=True)\n",
    "\n",
    "test_dataset = torchvision.datasets.MNIST(root='./data', train=False,\n",
    "                                          transform=transforms.ToTensor())\n",
    "\n",
    "train_loader = torch.utils.data.DataLoader(dataset=train_dataset, \n",
    "                                          batch_size=batch_size,\n",
    "                                          shuffle=True)\n",
    "\n",
    "test_loader = torch.utils.data.DataLoader(dataset=test_dataset, \n",
    "                                          batch_size=batch_size,\n",
    "                                          shuffle=True)"
   ]
  },
  {
   "cell_type": "code",
   "execution_count": 40,
   "metadata": {},
   "outputs": [
    {
     "name": "stdout",
     "output_type": "stream",
     "text": [
      "torch.Size([64, 1, 28, 28]) torch.Size([64])\n"
     ]
    }
   ],
   "source": [
    "examples = iter(train_loader)\n",
    "samples, labels = examples.next()\n",
    "print(samples.shape, labels.shape)"
   ]
  },
  {
   "cell_type": "code",
   "execution_count": 41,
   "metadata": {},
   "outputs": [
    {
     "data": {
      "image/png": "[encoded data removed]",
      "text/plain": [
       "<Figure size 432x288 with 6 Axes>"
      ]
     },
     "metadata": {
      "needs_background": "light"
     },
     "output_type": "display_data"
    }
   ],
   "source": [
    "for i in range(6):\n",
    "    plt.subplot(2,3,i+1)\n",
    "    plt.imshow(samples[i][0], cmap='gray')\n",
    "\n",
    "# write image to tensorboard\n",
    "img_grid = torchvision.utils.make_grid(samples)\n",
    "writer.add_image('mnist_images', img_grid)\n",
    "writer.close()"
   ]
  },
  {
   "cell_type": "code",
   "execution_count": 42,
   "metadata": {},
   "outputs": [],
   "source": [
    "class NeuralNet(nn.Module):\n",
    "    def __init__(self, input_size, hidden_size, num_classes):\n",
    "        super(NeuralNet, self).__init__()\n",
    "        self.l1 = nn.Linear(input_size, hidden_size)\n",
    "        self.relu = nn.ReLU()\n",
    "        self.l2 = nn.Linear(hidden_size, num_classes)\n",
    "    \n",
    "    def forward(self, x):\n",
    "        out = self.l1(x)\n",
    "        out = self.relu(out)\n",
    "        out = self.l2(out)\n",
    "        return out \n",
    "    # Note that since it's a multi classification\n",
    "    # We don't need to apply a softmax function here\n",
    "    # but if it's a binary classification one we need to apply a sigmoid function here\n",
    "\n",
    "model = NeuralNet(input_size, hidden_size, num_classes)\n",
    "\n",
    "# loss and optimizer\n",
    "criterion = nn.CrossEntropyLoss()\n",
    "optimizer = torch.optim.Adam(model.parameters(), lr=learning_rate)"
   ]
  },
  {
   "cell_type": "code",
   "execution_count": 43,
   "metadata": {},
   "outputs": [],
   "source": [
    "# Write model graph to tensorboard\n",
    "writer.add_graph(model, samples.reshape(-1, 28*28))\n",
    "writer.close()"
   ]
  },
  {
   "cell_type": "code",
   "execution_count": 44,
   "metadata": {},
   "outputs": [
    {
     "name": "stdout",
     "output_type": "stream",
     "text": [
      "epoch 1 / 2, step 100 / 938, loss = 0.3166\n",
      "epoch 1 / 2, step 200 / 938, loss = 0.2526\n",
      "epoch 1 / 2, step 300 / 938, loss = 0.2410\n",
      "epoch 1 / 2, step 400 / 938, loss = 0.2266\n",
      "epoch 1 / 2, step 500 / 938, loss = 0.1501\n",
      "epoch 1 / 2, step 600 / 938, loss = 0.2173\n",
      "epoch 1 / 2, step 700 / 938, loss = 0.1298\n",
      "epoch 1 / 2, step 800 / 938, loss = 0.3998\n",
      "epoch 1 / 2, step 900 / 938, loss = 0.1330\n",
      "epoch 2 / 2, step 100 / 938, loss = 0.0211\n",
      "epoch 2 / 2, step 200 / 938, loss = 0.0631\n",
      "epoch 2 / 2, step 300 / 938, loss = 0.2197\n",
      "epoch 2 / 2, step 400 / 938, loss = 0.1911\n",
      "epoch 2 / 2, step 500 / 938, loss = 0.1537\n",
      "epoch 2 / 2, step 600 / 938, loss = 0.1808\n",
      "epoch 2 / 2, step 700 / 938, loss = 0.2013\n",
      "epoch 2 / 2, step 800 / 938, loss = 0.1674\n",
      "epoch 2 / 2, step 900 / 938, loss = 0.0934\n"
     ]
    }
   ],
   "source": [
    "# Training loop\n",
    "n_total_steps = len(train_loader)\n",
    "\n",
    "running_loss = 0.0\n",
    "running_correct = 0\n",
    "\n",
    "for epoch in range(n_epochs):\n",
    "    for i, (images, labels) in enumerate(train_loader): # 100, 1, 28, 28\n",
    "        # 100, 1, 28, 28 --> 10, 784\n",
    "        images = images.reshape(-1, 28 * 28).to(device) # push to device\n",
    "        labels = labels.to(device)\n",
    "        \n",
    "        # forward pass\n",
    "        outputs = model(images)\n",
    "        loss = criterion(outputs, labels)\n",
    "        \n",
    "        # backward pass\n",
    "        loss.backward()\n",
    "        optimizer.step()\n",
    "        \n",
    "        # zero gradients\n",
    "        optimizer.zero_grad()\n",
    "        \n",
    "        running_loss += loss.item()\n",
    "        \n",
    "        _, preds = torch.max(outputs.data, 1)\n",
    "        running_correct += (preds == labels).sum().item()\n",
    "        \n",
    "        if (i+1) % 100 == 0:\n",
    "            print(f\"epoch {epoch+1} / {n_epochs}, step {i+1} / {n_total_steps}, loss = {loss.item():.4f}\")\n",
    "            writer.add_scalar('training loss',running_loss / 100, epoch * n_total_steps + i) # Write metrics to tensorboard\n",
    "            writer.add_scalar('accuracy',running_correct / 100, epoch * n_total_steps + i)\n",
    "            running_loss = 0.0 # Reset\n",
    "            running_correct = 0 # Reset"
   ]
  },
  {
   "cell_type": "code",
   "execution_count": 52,
   "metadata": {},
   "outputs": [
    {
     "name": "stdout",
     "output_type": "stream",
     "text": [
      "accuracy = 96.61\n"
     ]
    }
   ],
   "source": [
    "# testing\n",
    "labels = []\n",
    "predictions = []\n",
    "\n",
    "with torch.no_grad():\n",
    "    n_correct = 0\n",
    "    n_samples = 0\n",
    "    for image, label in test_loader:\n",
    "        image = image.reshape(-1, 28*28).to(device)\n",
    "        label = label.to(device)\n",
    "        outputs = model(image)\n",
    "        \n",
    "        # value, index\n",
    "        _, preds = torch.max(outputs.data, 1)\n",
    "        n_samples += label.size(0)\n",
    "        n_correct += (preds == label).sum().item()\n",
    "        \n",
    "        class_predictions = [torch.softmax(output, dim=0) for output in outputs]\n",
    "        \n",
    "        labels.append(preds)\n",
    "        predictions.append(class_predictions)\n",
    "    \n",
    "    predictions = torch.cat([torch.stack(batch) for batch in predictions])\n",
    "    labels = torch.cat(labels)\n",
    "    \n",
    "    acc = 100.0 * n_correct / n_samples\n",
    "    print(f\"accuracy = {acc}\")\n",
    "    \n",
    "    classes = range(10)\n",
    "    for i in classes:\n",
    "        labels_i = labels == i\n",
    "        preds_i = predictions[:, i]\n",
    "        writer.add_pr_curve(str(i), labels_i, preds_i, global_step=0)\n",
    "        writer.close()"
   ]
  }
 ],
 "metadata": {
  "kernelspec": {
   "display_name": "Python 3",
   "language": "python",
   "name": "python3"
  },
  "language_info": {
   "codemirror_mode": {
    "name": "ipython",
    "version": 3
   },
   "file_extension": ".py",
   "mimetype": "text/x-python",
   "name": "python",
   "nbconvert_exporter": "python",
   "pygments_lexer": "ipython3",
   "version": "3.7.7"
  }
 },
 "nbformat": 4,
 "nbformat_minor": 4
}
