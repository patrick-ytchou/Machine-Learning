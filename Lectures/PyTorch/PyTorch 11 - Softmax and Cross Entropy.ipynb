{
 "cells": [
  {
   "cell_type": "code",
   "execution_count": 1,
   "metadata": {},
   "outputs": [],
   "source": [
    "import torch\n",
    "import torch.nn as nn\n",
    "import numpy as np"
   ]
  },
  {
   "cell_type": "markdown",
   "metadata": {},
   "source": [
    "## Softmax: Numpy vs PyTorch\n",
    "\n",
    "<img src='pic/softmax.png' width=500>"
   ]
  },
  {
   "cell_type": "code",
   "execution_count": 10,
   "metadata": {},
   "outputs": [
    {
     "name": "stdout",
     "output_type": "stream",
     "text": [
      "softmax in numpy: [0.65900114 0.24243297 0.09856589]\n"
     ]
    }
   ],
   "source": [
    "# Implementation in Numpy\n",
    "\n",
    "def softmax(x):\n",
    "    return np.exp(x) / np.sum(np.exp(x), axis=0)\n",
    "\n",
    "x = np.array([2.0, 1.0, 0.1]) # example\n",
    "outputs = softmax(x)\n",
    "print(f'softmax in numpy: {outputs}')"
   ]
  },
  {
   "cell_type": "code",
   "execution_count": 14,
   "metadata": {},
   "outputs": [
    {
     "name": "stdout",
     "output_type": "stream",
     "text": [
      "softmax in pytorch: tensor([0.6590, 0.2424, 0.0986])\n"
     ]
    }
   ],
   "source": [
    "# Implementation in PyTorch\n",
    "\n",
    "x = torch.tensor([2.0, 1.0, 0.1])\n",
    "outputs = torch.softmax(x, dim=0) # across axis=0\n",
    "print(f'softmax in pytorch: {outputs}')"
   ]
  },
  {
   "cell_type": "markdown",
   "metadata": {},
   "source": [
    "## Cross-Entropy: Numpy vs PyTorch\n",
    "\n",
    "The cross-entropy loss increases as the predicted probability diverges from the actual label.\n",
    "\n",
    "<img src='pic/cross_entropy.png' width=500>"
   ]
  },
  {
   "cell_type": "code",
   "execution_count": 17,
   "metadata": {},
   "outputs": [
    {
     "name": "stdout",
     "output_type": "stream",
     "text": [
      "Loss 1: 0.1189\n",
      "Loss 2: 0.7675\n"
     ]
    }
   ],
   "source": [
    "# implementation in Numpy\n",
    "\n",
    "def cross_entropy(actual, pred):\n",
    "    loss = -np.sum(actual * np.log(pred))\n",
    "    return loss / float(pred.shape[0]) \n",
    "# note that the score in the slides above is not normalized\n",
    "# meaning that is not divided by the number of samples\n",
    "\n",
    "Y = np.array([1,0,0]) # note that y must be one hot encoded\n",
    "Y_pred_good = np.array([0.7, 0.2, 0.1])\n",
    "Y_pred_bad = np.array([0.1, 0.3, 0.6])\n",
    "loss_1 = cross_entropy(Y, Y_pred_good)\n",
    "loss_2 = cross_entropy(Y, Y_pred_bad)\n",
    "print(f\"Loss 1: {loss_1:.4f}\")\n",
    "print(f\"Loss 2: {loss_2:.4f}\")"
   ]
  },
  {
   "cell_type": "code",
   "execution_count": 22,
   "metadata": {},
   "outputs": [
    {
     "name": "stdout",
     "output_type": "stream",
     "text": [
      "Loss 1: 0.4170\n",
      "Loss 2: 1.8406\n"
     ]
    }
   ],
   "source": [
    "# implementation in PyTorch\n",
    "\n",
    "loss = nn.CrossEntropyLoss()\n",
    "Y = torch.tensor([0]) # n_samples * n_classes = 1 * 3\n",
    "Y_pred_good = torch.tensor([[2.0, 1.0, 0.1]])\n",
    "Y_pred_bad = torch.tensor([[0.5, 2.0, 0.3]])\n",
    "loss_1 = loss(Y_pred_good, Y) # loss(input, target) loss(pred, target)\n",
    "loss_2 = loss(Y_pred_bad, Y)\n",
    "print(f\"Loss 1: {loss_1:.4f}\")\n",
    "print(f\"Loss 2: {loss_2:.4f}\")"
   ]
  },
  {
   "cell_type": "markdown",
   "metadata": {},
   "source": [
    "Note that **nn.CrossEntropyLoss** already applies **nn.LogSoftmax** + **nn.NLLLoss** (negative log likelihood loss). You don't need to apply a softmax layer as the last one any more. \n",
    "\n",
    "The acutal Y should be the class labels, not the one-hot encoded representation, and the Y_pred should be raw scores (logits), instead of the softmax values."
   ]
  },
  {
   "cell_type": "code",
   "execution_count": 40,
   "metadata": {},
   "outputs": [
    {
     "name": "stdout",
     "output_type": "stream",
     "text": [
      "tensor([0])\n",
      "tensor([1])\n"
     ]
    }
   ],
   "source": [
    "# Make predictions in PyTorch\n",
    "_, pred1 = torch.max(Y_pred_good, dim = 1) # choose the one with the highest prob.\n",
    "_, pred2 = torch.max(Y_pred_bad, dim = 1)\n",
    "print(pred1)\n",
    "print(pred2)"
   ]
  },
  {
   "cell_type": "markdown",
   "metadata": {},
   "source": [
    "## Full Execution in PyTorch"
   ]
  },
  {
   "cell_type": "code",
   "execution_count": 44,
   "metadata": {},
   "outputs": [
    {
     "name": "stdout",
     "output_type": "stream",
     "text": [
      "Loss 1: 0.3846, pred = tensor([2, 0, 1])\n",
      "Loss 2: 2.6299, pred = tensor([0, 1, 2])\n"
     ]
    }
   ],
   "source": [
    "# implementation in PyTorch\n",
    "\n",
    "loss = nn.CrossEntropyLoss()\n",
    "Y = torch.tensor([2, 0, 1]) # 3 * 3\n",
    "Y_pred_good = torch.tensor([[0.1, 1.0, 2.1],\n",
    "                            [2.0, 1.0, 0.1],\n",
    "                            [2.0, 3.0, 0.1]])\n",
    "\n",
    "Y_pred_bad = torch.tensor([[2.1, 1.0, 0.1],\n",
    "                            [0.0, 2.0, 0.1],\n",
    "                            [2.0, 1.0, 4.1]])\n",
    "\n",
    "loss_1 = loss(Y_pred_good, Y) # loss(input, target) loss(pred, target)\n",
    "loss_2 = loss(Y_pred_bad, Y)\n",
    "_, pred1 = torch.max(Y_pred_good, dim = 1) # choose the one with the highest prob.\n",
    "_, pred2 = torch.max(Y_pred_bad, dim = 1)\n",
    "\n",
    "print(f\"Loss 1: {loss_1:.4f}, pred = {pred1}\")\n",
    "print(f\"Loss 2: {loss_2:.4f}, pred = {pred2}\")"
   ]
  },
  {
   "cell_type": "markdown",
   "metadata": {},
   "source": [
    "## Neural Network Classification structure in PyTorch\n",
    "\n",
    "Be really careful about the difference when constructing the forward function in the Neural Network class. "
   ]
  },
  {
   "cell_type": "code",
   "execution_count": null,
   "metadata": {},
   "outputs": [],
   "source": [
    "# binary classification problem\n",
    "\n",
    "class NeuralNet_B(nn.Module):\n",
    "    def __init__(self, input_size, hidden_size):\n",
    "        super(NeuralNet, self).__init__()\n",
    "        self.linear1 = nn.Linear(input_size, hidden_size)\n",
    "        self.relu = nn.ReLU()\n",
    "        self.linear2 = nn.Linear(hidden_size, 1)\n",
    "    \n",
    "    def forward(self, x):\n",
    "        out = self.linear1(x)\n",
    "        out = self.relu(x)\n",
    "        out = self.linear2(x) \n",
    "        # you need to apply sigmoid at the end\n",
    "        y_pred = torch.sigmoid(out)\n",
    "        return y_pred\n",
    "\n",
    "model = NeuralNet_B(input_size=28*28, hidden_size=5)\n",
    "criterion = nn.BCELoss()"
   ]
  },
  {
   "cell_type": "code",
   "execution_count": 45,
   "metadata": {},
   "outputs": [],
   "source": [
    "# multivariate classification problem\n",
    "\n",
    "class NeuralNet_M(nn.Module):\n",
    "    def __init__(self, input_size, hidden_size, num_classes):\n",
    "        super(NeuralNet, self).__init__()\n",
    "        self.linear1 = nn.Linear(input_size, hidden_size)\n",
    "        self.relu = nn.ReLU()\n",
    "        self.linear2 = nn.Linear(hidden_size, num_classes)\n",
    "    \n",
    "    def forward(self, x):\n",
    "        out = self.linear1(x)\n",
    "        out = self.relu(x)\n",
    "        out = self.linear2(x) \n",
    "        # no softmax at the end\n",
    "        # since nn.CrossEntropyLoss() already does for us\n",
    "        return(out)\n",
    "\n",
    "model = NeuralNet_M(input_size=28*28, hidden_size=5, num_classes=3)\n",
    "criterion = nn.CrossEntropyLoss()"
   ]
  }
 ],
 "metadata": {
  "kernelspec": {
   "display_name": "Python 3",
   "language": "python",
   "name": "python3"
  },
  "language_info": {
   "codemirror_mode": {
    "name": "ipython",
    "version": 3
   },
   "file_extension": ".py",
   "mimetype": "text/x-python",
   "name": "python",
   "nbconvert_exporter": "python",
   "pygments_lexer": "ipython3",
   "version": "3.7.7"
  }
 },
 "nbformat": 4,
 "nbformat_minor": 4
}
