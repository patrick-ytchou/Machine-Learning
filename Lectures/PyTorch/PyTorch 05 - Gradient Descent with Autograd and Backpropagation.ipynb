{
 "cells": [
  {
   "cell_type": "markdown",
   "metadata": {},
   "source": [
    "## Numpy Version"
   ]
  },
  {
   "cell_type": "code",
   "execution_count": 2,
   "metadata": {},
   "outputs": [],
   "source": [
    "import numpy as np"
   ]
  },
  {
   "cell_type": "code",
   "execution_count": 8,
   "metadata": {},
   "outputs": [],
   "source": [
    "# Function f = 2 * x \n",
    "\n",
    "# Create training samples\n",
    "x = np.array([1, 2, 3, 4], dtype = np.float32)\n",
    "y = np.array([2, 4, 6, 8], dtype = np.float32)\n",
    "\n",
    "w = 0.0 # Initialize weights"
   ]
  },
  {
   "cell_type": "code",
   "execution_count": 9,
   "metadata": {},
   "outputs": [
    {
     "name": "stdout",
     "output_type": "stream",
     "text": [
      "Prediction before training: f(5) = 0.000\n"
     ]
    }
   ],
   "source": [
    "# model prediction\n",
    "def forward(x):\n",
    "    return(w * x)\n",
    "\n",
    "# loss (MSE)\n",
    "def loss(y, y_predicted):\n",
    "    return(((y_predicted - y)**2).mean())\n",
    "\n",
    "# gradient\n",
    "# MSE = 1/N * (w*x - y)**2\n",
    "# --> dMSE / Dw = 1/N * 2x(w*x - y)\n",
    "def gradient(x, y, y_predicted):\n",
    "    return((np.dot(2*x, y_predicted-y)).mean())\n",
    "\n",
    "print(f\"Prediction before training: f(5) = {forward(5):.3f}\")"
   ]
  },
  {
   "cell_type": "code",
   "execution_count": 10,
   "metadata": {},
   "outputs": [
    {
     "name": "stdout",
     "output_type": "stream",
     "text": [
      "Epoch 1: w = 1.200, loss = 30.00000000\n",
      "Epoch 3: w = 1.872, loss = 0.76800019\n",
      "Epoch 5: w = 1.980, loss = 0.01966083\n",
      "Epoch 7: w = 1.997, loss = 0.00050331\n",
      "Epoch 9: w = 1.999, loss = 0.00001288\n",
      "Epoch 11: w = 2.000, loss = 0.00000033\n",
      "Epoch 13: w = 2.000, loss = 0.00000001\n",
      "Epoch 15: w = 2.000, loss = 0.00000000\n",
      "Epoch 17: w = 2.000, loss = 0.00000000\n",
      "Epoch 19: w = 2.000, loss = 0.00000000\n",
      "Prediction after training: f(5) = 10.000\n"
     ]
    }
   ],
   "source": [
    "# Training\n",
    "learning_rate = 0.01\n",
    "n_iters = 20\n",
    "\n",
    "for epoch in range(n_iters):\n",
    "    # prediction\n",
    "    y_pred = forward(x)\n",
    "    \n",
    "    # loss\n",
    "    l = loss(y, y_pred)\n",
    "    \n",
    "    # gradients\n",
    "    grad = gradient(x, y, y_pred)\n",
    "    \n",
    "    # update weights\n",
    "    w -= learning_rate * grad # negative direction of the gradient\n",
    "    \n",
    "    if epoch % 2 == 0:\n",
    "        print(f\"Epoch {epoch + 1}: w = {w:.3f}, loss = {l:.8f}\")\n",
    "\n",
    "print(f\"Prediction after training: f(5) = {forward(5):.3f}\")"
   ]
  },
  {
   "cell_type": "markdown",
   "metadata": {},
   "source": [
    "## PyTorch Version"
   ]
  },
  {
   "cell_type": "code",
   "execution_count": 12,
   "metadata": {},
   "outputs": [],
   "source": [
    "import torch"
   ]
  },
  {
   "cell_type": "code",
   "execution_count": 16,
   "metadata": {},
   "outputs": [],
   "source": [
    "# Function f = 2 * x \n",
    "\n",
    "# Create training samples\n",
    "x = torch.tensor([1, 2, 3, 4], dtype = torch.float32)\n",
    "y = torch.tensor([2, 4, 6, 8], dtype = torch.float32)\n",
    "\n",
    "w = torch.tensor(0.0, dtype = torch.float32, requires_grad=True) # Initialize weights"
   ]
  },
  {
   "cell_type": "code",
   "execution_count": 17,
   "metadata": {},
   "outputs": [],
   "source": [
    "# model prediction\n",
    "def forward(x):\n",
    "    return(w * x)\n",
    "\n",
    "# loss (MSE)\n",
    "def loss(y, y_predicted):\n",
    "    return(((y_predicted - y)**2).mean())"
   ]
  },
  {
   "cell_type": "code",
   "execution_count": 18,
   "metadata": {},
   "outputs": [
    {
     "name": "stdout",
     "output_type": "stream",
     "text": [
      "Epoch 1: w = 0.300, loss = 30.00000000\n",
      "Epoch 11: w = 1.665, loss = 1.16278565\n",
      "Epoch 21: w = 1.934, loss = 0.04506890\n",
      "Epoch 31: w = 1.987, loss = 0.00174685\n",
      "Epoch 41: w = 1.997, loss = 0.00006770\n",
      "Epoch 51: w = 1.999, loss = 0.00000262\n",
      "Epoch 61: w = 2.000, loss = 0.00000010\n",
      "Epoch 71: w = 2.000, loss = 0.00000000\n",
      "Epoch 81: w = 2.000, loss = 0.00000000\n",
      "Epoch 91: w = 2.000, loss = 0.00000000\n",
      "Prediction after training: f(5) = 10.000\n"
     ]
    }
   ],
   "source": [
    "# Training\n",
    "learning_rate = 0.01\n",
    "n_iters = 100\n",
    "\n",
    "for epoch in range(n_iters):\n",
    "    # prediction\n",
    "    y_pred = forward(x)\n",
    "    \n",
    "    # loss\n",
    "    l = loss(y, y_pred)\n",
    "    \n",
    "    # gradients --> backward pass\n",
    "    l.backward() # calculate dl/dw and will accumulate the result in w.grad\n",
    "    \n",
    "    # update weights\n",
    "    with torch.no_grad():\n",
    "        w -= learning_rate * w.grad # negative direction of the gradient\n",
    "        \n",
    "    # Zero the gradients\n",
    "    w.grad.zero_() # modify in-place\n",
    "    \n",
    "    if epoch % 10 == 0:\n",
    "        print(f\"Epoch {epoch + 1}: w = {w:.3f}, loss = {l:.8f}\")\n",
    "\n",
    "print(f\"Prediction after training: f(5) = {forward(5):.3f}\")"
   ]
  },
  {
   "cell_type": "markdown",
   "metadata": {},
   "source": [
    "If you try the same number of iterations (20), the result is not completely correct (loss ~ 0.086) because the backpropagation is not as exact as the numerical gradient computation. Thus, we can increase the number of iteration to achieve better results."
   ]
  }
 ],
 "metadata": {
  "kernelspec": {
   "display_name": "Python 3",
   "language": "python",
   "name": "python3"
  },
  "language_info": {
   "codemirror_mode": {
    "name": "ipython",
    "version": 3
   },
   "file_extension": ".py",
   "mimetype": "text/x-python",
   "name": "python",
   "nbconvert_exporter": "python",
   "pygments_lexer": "ipython3",
   "version": "3.7.7"
  }
 },
 "nbformat": 4,
 "nbformat_minor": 4
}
