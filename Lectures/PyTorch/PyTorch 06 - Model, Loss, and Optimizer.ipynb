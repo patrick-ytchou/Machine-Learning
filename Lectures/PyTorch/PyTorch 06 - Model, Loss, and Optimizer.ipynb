{
 "cells": [
  {
   "cell_type": "markdown",
   "metadata": {},
   "source": [
    "### General training pipeline in PyTorch\n",
    "\n",
    "1. Design model (# of inputs and outputs, forward pass)\n",
    "2. Construct loss and optimizer\n",
    "3. Build training loop\n",
    "    - forward pass: compute prediction\n",
    "    - backward pass: gradients \n",
    "    - update weights"
   ]
  },
  {
   "cell_type": "code",
   "execution_count": 58,
   "metadata": {},
   "outputs": [],
   "source": [
    "import torch\n",
    "import torch.nn as nn"
   ]
  },
  {
   "cell_type": "code",
   "execution_count": 59,
   "metadata": {},
   "outputs": [
    {
     "name": "stdout",
     "output_type": "stream",
     "text": [
      "Prediction before training: f(5) = 0.678\n"
     ]
    }
   ],
   "source": [
    "# Function f = 2 * x \n",
    "\n",
    "# Create training samples\n",
    "x = torch.tensor([[1], [2], [3], [4]], dtype = torch.float32)\n",
    "y = torch.tensor([[2], [4], [6], [8]], dtype = torch.float32)\n",
    "\n",
    "x_test = torch.tensor([5], dtype = torch.float32)\n",
    "\n",
    "n_samples, n_features = x.shape\n",
    "\n",
    "input_size = n_features\n",
    "output_size = n_features\n",
    "\n",
    "model = nn.Linear(input_size, output_size)\n",
    "\n",
    "# model prediction before training\n",
    "print(f\"Prediction before training: f(5) = {model(x_test).item():.3f}\")"
   ]
  },
  {
   "cell_type": "code",
   "execution_count": 60,
   "metadata": {},
   "outputs": [],
   "source": [
    "class LinearRegression(nn.Module):\n",
    "    def __init__(self, input_dim, output_dim):\n",
    "        super(LinearRegression, self).__init__()\n",
    "        # define layers\n",
    "        self.lin = nn.Linear(input_dim, output_dim)\n",
    "    \n",
    "    def forward(self, x):\n",
    "        return(self.lin(x))\n",
    "    \n",
    "model = LinearRegression(input_size, output_size)"
   ]
  },
  {
   "cell_type": "code",
   "execution_count": 61,
   "metadata": {},
   "outputs": [
    {
     "name": "stdout",
     "output_type": "stream",
     "text": [
      "Epoch 1: w = 0.523, loss = 30.30854416\n",
      "Epoch 11: w = 1.783, loss = 0.78502476\n",
      "Epoch 21: w = 1.985, loss = 0.02112963\n",
      "Epoch 31: w = 2.017, loss = 0.00131824\n",
      "Epoch 41: w = 2.022, loss = 0.00076075\n",
      "Epoch 51: w = 2.022, loss = 0.00070403\n",
      "Epoch 61: w = 2.021, loss = 0.00066272\n",
      "Epoch 71: w = 2.021, loss = 0.00062415\n",
      "Epoch 81: w = 2.020, loss = 0.00058782\n",
      "Epoch 91: w = 2.020, loss = 0.00055361\n",
      "Prediction after training: f(5) = 10.039\n"
     ]
    }
   ],
   "source": [
    "# Training\n",
    "learning_rate = 0.01\n",
    "n_iters = 100\n",
    "\n",
    "loss = nn.MSELoss()\n",
    "optimizer = torch.optim.SGD(model.parameters(), lr=learning_rate)\n",
    "\n",
    "for epoch in range(n_iters):\n",
    "    # prediction\n",
    "    y_pred = model(x)\n",
    "    \n",
    "    # loss\n",
    "    l = loss(y, y_pred)\n",
    "    \n",
    "    # gradients --> backward pass\n",
    "    l.backward() # calculate dl/dw and will accumulate the result in w.grad\n",
    "    \n",
    "    # update weights\n",
    "    optimizer.step()\n",
    "        \n",
    "    # Zero the gradients\n",
    "    optimizer.zero_grad()\n",
    "    \n",
    "    if epoch % 10 == 0:\n",
    "        [w, b] = model.parameters() \n",
    "        print(f\"Epoch {epoch + 1}: w = {w[0][0].item():.3f}, loss = {l:.8f}\")\n",
    "\n",
    "print(f\"Prediction after training: f(5) = {model(x_test).item():.3f}\")"
   ]
  },
  {
   "cell_type": "markdown",
   "metadata": {},
   "source": [
    "Note that the output is not perfect and is subject to change because the initialization of the model is random and the optimizer technique can be different based on the optimizer you choose and the random seed / learning rate it uses. \n",
    "\n",
    "---\n",
    "In fact, the nn.LinearRegression is the same as below."
   ]
  },
  {
   "cell_type": "code",
   "execution_count": null,
   "metadata": {},
   "outputs": [],
   "source": [
    "class LinearRegression(nn.Module):\n",
    "    def __init__(self, input_dim, output_dim):\n",
    "        super(LinearRegression, self).__init__()\n",
    "        # define layers\n",
    "        self.lin = nn.Linear(input_dim, output_dim)\n",
    "    \n",
    "    def forward(self, x):\n",
    "        return(self.lin(x))\n",
    "    \n",
    "model = LinearRegression(input_size, output_size)"
   ]
  }
 ],
 "metadata": {
  "kernelspec": {
   "display_name": "Python 3",
   "language": "python",
   "name": "python3"
  },
  "language_info": {
   "codemirror_mode": {
    "name": "ipython",
    "version": 3
   },
   "file_extension": ".py",
   "mimetype": "text/x-python",
   "name": "python",
   "nbconvert_exporter": "python",
   "pygments_lexer": "ipython3",
   "version": "3.7.7"
  }
 },
 "nbformat": 4,
 "nbformat_minor": 4
}
