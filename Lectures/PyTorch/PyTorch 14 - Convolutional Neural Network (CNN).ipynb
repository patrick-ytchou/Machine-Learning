{
 "cells": [
  {
   "cell_type": "code",
   "execution_count": 32,
   "metadata": {},
   "outputs": [],
   "source": [
    "import torch\n",
    "import torch.nn as nn\n",
    "import torch.nn.functional as F\n",
    "import torchvision\n",
    "import torchvision.transforms as transforms\n",
    "import matplotlib.pyplot as plt\n",
    "import numpy as np\n",
    "from datetime import datetime"
   ]
  },
  {
   "cell_type": "code",
   "execution_count": 62,
   "metadata": {},
   "outputs": [],
   "source": [
    "# Device config\n",
    "device = torch.device('cuda' if torch.cuda.is_available() else 'cpu')\n",
    "\n",
    "# Hyper-parameters\n",
    "n_epochs = 10\n",
    "batch_size = 4\n",
    "learning_rate = 0.001"
   ]
  },
  {
   "cell_type": "code",
   "execution_count": 63,
   "metadata": {},
   "outputs": [],
   "source": [
    "# load dataset\n",
    "# dataset has PILImage images of range [0, 1]\n",
    "# here we transform them to tensors of normalized range [-1, 1]\n",
    "transform = transforms.Compose(\n",
    "        [transforms.ToTensor(),\n",
    "        transforms.Normalize((0.5, 0.5, 0.5), (0.5, 0.5, 0.5))])\n",
    "\n",
    "train_dataset = torchvision.datasets.CIFAR10(root='./data', train=True,\n",
    "                                             transform=transform)\n",
    "\n",
    "test_dataset = torchvision.datasets.CIFAR10(root='./data', train=False,\n",
    "                                            transform=transform)\n",
    "\n",
    "train_loader = torch.utils.data.DataLoader(train_dataset, batch_size=batch_size,\n",
    "                                          shuffle=True)\n",
    "\n",
    "test_loader = torch.utils.data.DataLoader(train_dataset, batch_size=batch_size,\n",
    "                                          shuffle=False)\n",
    "\n",
    "classes = ('plane', 'car', 'bird', 'cat', 'deer',\n",
    "          'dog', 'frog', 'horse', 'ship', 'truck')"
   ]
  },
  {
   "cell_type": "code",
   "execution_count": 64,
   "metadata": {},
   "outputs": [],
   "source": [
    "class ConvNet(nn.Module):\n",
    "    def __init__(self):\n",
    "        super(ConvNet, self).__init__()\n",
    "        # input_layer: 3 input channels, 6 output channels, 5 kernel size\n",
    "        self.conv1 = nn.Conv2d(3, 6, 5) # 3*32*32\n",
    "        self.pool = nn.MaxPool2d(2, stride=2) # 6*28*28\n",
    "        self.conv2 = nn.Conv2d(6, 16, 5) # 6*14*14\n",
    "        self.fc1 = nn.Linear(16*5*5, 120)\n",
    "        # 16*5*5 is the size after two consecutive Conv2d and MaxPool2d\n",
    "        self.fc2 = nn.Linear(120, 72)\n",
    "        self.fc3 = nn.Linear(72, 10)\n",
    "    \n",
    "    def forward(self, x):\n",
    "        x = self.pool(F.relu(self.conv1(x)))\n",
    "        x = self.pool(F.relu(self.conv2(x)))\n",
    "        x = x.view(-1, 16*5*5) # Flatten\n",
    "        x = F.relu(self.fc1(x))\n",
    "        x = F.relu(self.fc2(x))\n",
    "        x = self.fc3(x) \n",
    "        # Note that no activation function and softmax should be included in the last layer\n",
    "        # since they are both included in the nn.CrossEntropyLoss()\n",
    "        return(x)\n",
    "\n",
    "model = ConvNet().to(device)\n",
    "\n",
    "criterion = nn.CrossEntropyLoss()\n",
    "optimizer = torch.optim.SGD(model.parameters(), lr=learning_rate)"
   ]
  },
  {
   "cell_type": "code",
   "execution_count": 65,
   "metadata": {},
   "outputs": [
    {
     "name": "stdout",
     "output_type": "stream",
     "text": [
      "Epoch [1/10], Loss: 2.2973, Time: 2020-06-04 00:10:45\n",
      "Epoch [2/10], Loss: 1.6392, Time: 2020-06-04 00:11:31\n",
      "Epoch [3/10], Loss: 2.0236, Time: 2020-06-04 00:12:19\n",
      "Epoch [4/10], Loss: 2.0376, Time: 2020-06-04 00:13:10\n",
      "Epoch [5/10], Loss: 1.2965, Time: 2020-06-04 00:14:03\n",
      "Epoch [6/10], Loss: 0.6566, Time: 2020-06-04 00:14:52\n",
      "Epoch [7/10], Loss: 0.3501, Time: 2020-06-04 00:15:40\n",
      "Epoch [8/10], Loss: 0.9825, Time: 2020-06-04 00:16:27\n",
      "Epoch [9/10], Loss: 0.9566, Time: 2020-06-04 00:17:12\n",
      "Epoch [10/10], Loss: 1.6371, Time: 2020-06-04 00:17:57\n",
      "Finished Training\n"
     ]
    }
   ],
   "source": [
    "# Training\n",
    "n_total_steps = len(train_loader)\n",
    "for epoch in range(n_epochs):\n",
    "    for i, (images, labels) in enumerate(train_loader):\n",
    "        # 4, 3, 32, 32 --> 4, 3, 1024\n",
    "        # input_layer: 3 input channels, 6 output channels, 5 kernel size\n",
    "        images = images.to(device)\n",
    "        labels = labels.to(device)\n",
    "        \n",
    "        # Forward pass\n",
    "        outputs = model(images)\n",
    "        loss = criterion(outputs, labels)\n",
    "        \n",
    "        # Backward and optimize\n",
    "        loss.backward()\n",
    "        optimizer.step()\n",
    "        optimizer.zero_grad()\n",
    "            \n",
    "    print(f\"Epoch [{epoch+1}/{n_epochs}], Loss: {loss.item():.4f}, Time: {str(datetime.now())[:19]}\")\n",
    "\n",
    "print(\"Finished Training\")"
   ]
  },
  {
   "cell_type": "code",
   "execution_count": 66,
   "metadata": {},
   "outputs": [
    {
     "name": "stdout",
     "output_type": "stream",
     "text": [
      "Accuracy of CNN: 60.062%\n",
      "Accuracy of plane: 59.32%\n",
      "Accuracy of car: 76.62%\n",
      "Accuracy of bird: 44.3%\n",
      "Accuracy of cat: 44.58%\n",
      "Accuracy of deer: 40.12%\n",
      "Accuracy of dog: 52.7%\n",
      "Accuracy of frog: 73.06%\n",
      "Accuracy of horse: 66.08%\n",
      "Accuracy of ship: 74.56%\n",
      "Accuracy of truck: 69.28%\n"
     ]
    }
   ],
   "source": [
    "# Testing\n",
    "with torch.no_grad():\n",
    "    n_correct = 0\n",
    "    n_samples = 0\n",
    "    n_class_correct = [0 for i in range(10)]\n",
    "    n_class_samples = [0 for i in range(10)]\n",
    "    for images, labels in test_loader:\n",
    "        images = images.to(device)\n",
    "        labels = labels.to(device)\n",
    "        outputs = model(images)\n",
    "        \n",
    "        _, preds = torch.max(outputs, dim = 1)\n",
    "        n_samples += labels.size(0)\n",
    "        n_correct += (preds == labels).sum().item()\n",
    "        \n",
    "        for i in range(batch_size):\n",
    "            label = labels[i]\n",
    "            pred = preds[i]\n",
    "            if (label == pred):\n",
    "                n_class_correct[label] += 1\n",
    "            n_class_samples[label] += 1\n",
    "    \n",
    "    acc = 100.0 * n_correct / n_samples\n",
    "    print(f\"Accuracy of CNN: {acc}%\")\n",
    "    \n",
    "    for i in range(10):\n",
    "        acc = 100.0 * n_class_correct[i] / n_class_samples[i]\n",
    "        print(f\"Accuracy of {classes[i]}: {acc}%\")"
   ]
  },
  {
   "cell_type": "markdown",
   "metadata": {},
   "source": [
    "## Note: Formula for the output size\n",
    "\n",
    "$$(Input-F+2P)/S + 1$$\n",
    "\n",
    "Example: 5x5 input, 3x3 filter, padding = 0, stride = 1\n",
    "\n",
    "$$ (5-3+0)/1 + 1 = 3$$\n",
    "\n",
    "Thus, the output will be of size 3x3."
   ]
  }
 ],
 "metadata": {
  "kernelspec": {
   "display_name": "Python 3",
   "language": "python",
   "name": "python3"
  },
  "language_info": {
   "codemirror_mode": {
    "name": "ipython",
    "version": 3
   },
   "file_extension": ".py",
   "mimetype": "text/x-python",
   "name": "python",
   "nbconvert_exporter": "python",
   "pygments_lexer": "ipython3",
   "version": "3.7.7"
  }
 },
 "nbformat": 4,
 "nbformat_minor": 4
}
