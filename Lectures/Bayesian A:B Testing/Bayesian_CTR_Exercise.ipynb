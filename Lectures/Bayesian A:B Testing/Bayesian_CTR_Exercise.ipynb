{
 "cells": [
  {
   "cell_type": "code",
   "execution_count": 1,
   "metadata": {},
   "outputs": [],
   "source": [
    "import numpy as np\n",
    "from flask import Flask, jsonify, request\n",
    "from scipy.stats import beta\n",
    "\n",
    "# create an app\n",
    "app = Flask(__name__)"
   ]
  },
  {
   "cell_type": "code",
   "execution_count": 8,
   "metadata": {},
   "outputs": [],
   "source": [
    "# define bandits\n",
    "# there's no \"pull arm\" here\n",
    "# since that's technically now the user/client\n",
    "class Bandit:\n",
    "    def __init__(self, name):\n",
    "        self.click = 0\n",
    "        self.view = 0\n",
    "        self.name = name\n",
    "\n",
    "    def sample(self):\n",
    "        # let's assume the prior would be Beta(1,1)\n",
    "        a = 1 + self.click\n",
    "        b = 1 + self.view - self.click\n",
    "        return np.random.beta(a, b)\n",
    "\n",
    "    def add_click(self):\n",
    "        self.click += 1\n",
    "\n",
    "    def add_view(self):\n",
    "        self.view += 1\n",
    "\n",
    "        # print some helpful stats\n",
    "        if self.views % 50 == 0:\n",
    "            print(f\"{self.name}: clks={self.click}, views={self.view}\")"
   ]
  },
  {
   "cell_type": "code",
   "execution_count": 9,
   "metadata": {},
   "outputs": [],
   "source": [
    "# initialize bandits\n",
    "banditA = Bandit('A')\n",
    "banditB = Bandit('B')"
   ]
  },
  {
   "cell_type": "code",
   "execution_count": 1,
   "metadata": {},
   "outputs": [],
   "source": [
    "@app.route('/get_ad')\n",
    "def get_ad():\n",
    "    if banditA.sample() > banditB.sample():\n",
    "        ad = 'A'\n",
    "        banditA.add_view()\n",
    "    else:\n",
    "        ad = 'B'\n",
    "        banditB.add_view()\n",
    "    return jsonify({'advertisement_id': ad})\n",
    "\n",
    "\n",
    "@app.route('/click_ad', methods=['POST'])\n",
    "def click_ad():\n",
    "    result = 'OK'\n",
    "    if request.form['advertisement_id'] == 'A':\n",
    "        banditA.add_click()\n",
    "    elif request.form['advertisement_id'] == 'B':\n",
    "        banditB.add_click()\n",
    "    else:\n",
    "        result = 'Invalid Input.'\n",
    "\n",
    "    # nothing to return really\n",
    "    return jsonify({'result': result})\n",
    "\n",
    "\n",
    "if __name__ == '__main__':\n",
    "    app.run(host='127.0.0.1', port='1234')"
   ]
  }
 ],
 "metadata": {
  "kernelspec": {
   "display_name": "Python 3",
   "language": "python",
   "name": "python3"
  },
  "language_info": {
   "codemirror_mode": {
    "name": "ipython",
    "version": 3
   },
   "file_extension": ".py",
   "mimetype": "text/x-python",
   "name": "python",
   "nbconvert_exporter": "python",
   "pygments_lexer": "ipython3",
   "version": "3.7.5"
  }
 },
 "nbformat": 4,
 "nbformat_minor": 2
}
