{
 "cells": [
  {
   "cell_type": "code",
   "execution_count": 38,
   "metadata": {},
   "outputs": [],
   "source": [
    "import numpy as np\n",
    "from scipy import stats"
   ]
  },
  {
   "cell_type": "markdown",
   "metadata": {},
   "source": [
    "## Manual T-test"
   ]
  },
  {
   "cell_type": "code",
   "execution_count": 128,
   "metadata": {},
   "outputs": [
    {
     "name": "stdout",
     "output_type": "stream",
     "text": [
      "t: 3.8762918528620314\n",
      "p: 0.001106351542229822\n"
     ]
    }
   ],
   "source": [
    "# Generate Sample Data\n",
    "np.random.seed(555)\n",
    "N = 10\n",
    "a = np.random.randn(N) + 2 # mean is 2, std = 1\n",
    "b = np.random.randn(N) # mean is 0, std = 1\n",
    "\n",
    "\n",
    "# Calculate the var\n",
    "var_a = a.var(ddof=1) \n",
    "var_b = b.var(ddof=1)\n",
    "## by default, the numpy does a MAP estimation.\n",
    "## In this case it's a sample, so we need to divided by N-1\n",
    "## We can make this by stating ddof (delta degree of freedom) =1\n",
    "\n",
    "# pooled-standard deviation\n",
    "s = np.sqrt((var_a + var_b) / 2)\n",
    "\n",
    "# calculate p-value\n",
    "t = (a.mean() - b.mean()) / (s * np.sqrt(2.0/N))\n",
    "df = 2 * N - 2 # degree of freedom\n",
    "p = (1 - stats.t.cdf(t, df = df) ) * 2\n",
    "\n",
    "print(f\"t: {t}\")\n",
    "print(f\"p: {p}\")"
   ]
  },
  {
   "cell_type": "markdown",
   "metadata": {},
   "source": [
    "## Built-in t-test"
   ]
  },
  {
   "cell_type": "code",
   "execution_count": 127,
   "metadata": {},
   "outputs": [
    {
     "name": "stdout",
     "output_type": "stream",
     "text": [
      "t2: 3.8762918528620314\n",
      "p2: 0.0011063515422298506\n"
     ]
    }
   ],
   "source": [
    "# built-in t-test\n",
    "t2, p2 = stats.ttest_ind(a, b) ## t-test from two independent samples\n",
    "\n",
    "print(f\"t2: {t2}\")\n",
    "print(f\"p2: {p2}\")"
   ]
  }
 ],
 "metadata": {
  "kernelspec": {
   "display_name": "Python 3",
   "language": "python",
   "name": "python3"
  },
  "language_info": {
   "codemirror_mode": {
    "name": "ipython",
    "version": 3
   },
   "file_extension": ".py",
   "mimetype": "text/x-python",
   "name": "python",
   "nbconvert_exporter": "python",
   "pygments_lexer": "ipython3",
   "version": "3.7.5"
  }
 },
 "nbformat": 4,
 "nbformat_minor": 2
}
