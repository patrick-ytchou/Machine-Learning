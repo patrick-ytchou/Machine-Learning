{
 "cells": [
  {
   "cell_type": "markdown",
   "id": "34b92746",
   "metadata": {},
   "source": [
    "# 2.3. Linear Algebra\n",
    "\n",
    "In this notebook, we will introduce the basic mathematical objects, arithmetic, and operations in linear algebra, expressing each of them through mathematical notation and the corresponding implementation in code.\n",
    "\n",
    "## Table of Contents\n",
    "\n",
    "[2.3.1 Scalars](#scalar)\n",
    "\n",
    "[2.3.2 Vectors](#vector)\n",
    "\n",
    "[2.3.3 Matrices](#matrix)\n",
    "\n",
    "[2.3.4 Tensors](#tensor)\n",
    "\n",
    "[2.3.5 Basic Properties of Tensor Arithmetic](#basic)\n",
    "\n",
    "[2.3.6 Reduction](#reduction)\n",
    "\n",
    "[2.3.7 Dot Products](#dot)\n",
    "\n",
    "[2.3.8 Matrix-Vector Products](#mvprod)\n",
    "\n",
    "[2.3.9 Matrix-Matrix Multiplication](#mmm)\n",
    "\n",
    "[2.3.10 Norms](#norm)\n",
    "\n",
    "[2.3.12 Summary](#summary)\n",
    "\n",
    "\n",
    "## 2.3.1 Scalars <a name=\"scalar\"></a>\n",
    "\n",
    "A scalar is represented by a tensor with **just one element**."
   ]
  },
  {
   "cell_type": "code",
   "execution_count": 1,
   "id": "0e5f7286",
   "metadata": {},
   "outputs": [
    {
     "data": {
      "text/plain": [
       "(tensor(5.), tensor(6.), tensor(1.5000), tensor(9.))"
      ]
     },
     "execution_count": 1,
     "metadata": {},
     "output_type": "execute_result"
    }
   ],
   "source": [
    "import torch\n",
    "\n",
    "x = torch.tensor(3.0)\n",
    "y = torch.tensor(2.0)\n",
    "\n",
    "x + y, x * y, x / y, x**y"
   ]
  },
  {
   "cell_type": "markdown",
   "id": "521a9951",
   "metadata": {},
   "source": [
    "## 2.3.2 Vectors <a name=\"vector\"></a>\n",
    "\n",
    "You can think of a vector as simply a list of scalar values. We call these values the **elements (entries or components) of the vector**. "
   ]
  },
  {
   "cell_type": "code",
   "execution_count": 2,
   "id": "4309c3af",
   "metadata": {},
   "outputs": [
    {
     "data": {
      "text/plain": [
       "tensor([0, 1, 2, 3])"
      ]
     },
     "execution_count": 2,
     "metadata": {},
     "output_type": "execute_result"
    }
   ],
   "source": [
    "x = torch.arange(4)\n",
    "x"
   ]
  },
  {
   "cell_type": "code",
   "execution_count": 3,
   "id": "d1ffe86d",
   "metadata": {},
   "outputs": [
    {
     "data": {
      "text/plain": [
       "tensor(2)"
      ]
     },
     "execution_count": 3,
     "metadata": {},
     "output_type": "execute_result"
    }
   ],
   "source": [
    "## We can refer to any element of a vector by using a subscript\n",
    "x[2]"
   ]
  },
  {
   "cell_type": "code",
   "execution_count": 5,
   "id": "2435913f",
   "metadata": {},
   "outputs": [
    {
     "data": {
      "text/plain": [
       "torch.Size([4])"
      ]
     },
     "execution_count": 5,
     "metadata": {},
     "output_type": "execute_result"
    }
   ],
   "source": [
    "## Length of the tensor\n",
    "len(x)"
   ]
  },
  {
   "cell_type": "code",
   "execution_count": 6,
   "id": "482cc6d7",
   "metadata": {},
   "outputs": [
    {
     "data": {
      "text/plain": [
       "torch.Size([4])"
      ]
     },
     "execution_count": 6,
     "metadata": {},
     "output_type": "execute_result"
    }
   ],
   "source": [
    "## Shape of the tensor\n",
    "x.shape"
   ]
  },
  {
   "cell_type": "markdown",
   "id": "4ccee912",
   "metadata": {},
   "source": [
    "## 2.3.3 Matrices <a name=\"matrix\"></a>"
   ]
  },
  {
   "cell_type": "code",
   "execution_count": 7,
   "id": "de74c80a",
   "metadata": {},
   "outputs": [
    {
     "data": {
      "text/plain": [
       "tensor([[ 0,  1,  2,  3],\n",
       "        [ 4,  5,  6,  7],\n",
       "        [ 8,  9, 10, 11],\n",
       "        [12, 13, 14, 15],\n",
       "        [16, 17, 18, 19]])"
      ]
     },
     "execution_count": 7,
     "metadata": {},
     "output_type": "execute_result"
    }
   ],
   "source": [
    "A = torch.arange(20).reshape(5, 4)\n",
    "A"
   ]
  },
  {
   "cell_type": "code",
   "execution_count": 8,
   "id": "a00c813c",
   "metadata": {},
   "outputs": [
    {
     "data": {
      "text/plain": [
       "tensor([[ 0,  4,  8, 12, 16],\n",
       "        [ 1,  5,  9, 13, 17],\n",
       "        [ 2,  6, 10, 14, 18],\n",
       "        [ 3,  7, 11, 15, 19]])"
      ]
     },
     "execution_count": 8,
     "metadata": {},
     "output_type": "execute_result"
    }
   ],
   "source": [
    "# Transpose the matrix\n",
    "A.T"
   ]
  },
  {
   "cell_type": "code",
   "execution_count": 10,
   "id": "e2c73d64",
   "metadata": {},
   "outputs": [
    {
     "data": {
      "text/plain": [
       "tensor([[1, 2, 3],\n",
       "        [2, 0, 4],\n",
       "        [3, 4, 5]])"
      ]
     },
     "execution_count": 10,
     "metadata": {},
     "output_type": "execute_result"
    }
   ],
   "source": [
    "# Build a symmetric matrix \n",
    "B = torch.tensor([[1, 2, 3], [2, 0, 4], [3, 4, 5]])\n",
    "B"
   ]
  },
  {
   "cell_type": "code",
   "execution_count": 11,
   "id": "f2a85696",
   "metadata": {},
   "outputs": [
    {
     "data": {
      "text/plain": [
       "tensor([[True, True, True],\n",
       "        [True, True, True],\n",
       "        [True, True, True]])"
      ]
     },
     "execution_count": 11,
     "metadata": {},
     "output_type": "execute_result"
    }
   ],
   "source": [
    "# Check the property of symmetry\n",
    "B == B.T"
   ]
  },
  {
   "cell_type": "markdown",
   "id": "c6604c9e",
   "metadata": {},
   "source": [
    "## 2.3.4 Tensors <a name=\"tensor\"></a>\n",
    "\n",
    "**Tensors** give us a generic way of describing 𝑛 -dimensional arrays with an arbitrary number of axes. For comparison, **vectors** are first-order tensors, and **matrices** are second-order tensors."
   ]
  },
  {
   "cell_type": "code",
   "execution_count": 12,
   "id": "237bd413",
   "metadata": {},
   "outputs": [
    {
     "data": {
      "text/plain": [
       "tensor([[[ 0,  1,  2,  3],\n",
       "         [ 4,  5,  6,  7],\n",
       "         [ 8,  9, 10, 11]],\n",
       "\n",
       "        [[12, 13, 14, 15],\n",
       "         [16, 17, 18, 19],\n",
       "         [20, 21, 22, 23]]])"
      ]
     },
     "execution_count": 12,
     "metadata": {},
     "output_type": "execute_result"
    }
   ],
   "source": [
    "X = torch.arange(24).reshape(2, 3, 4)\n",
    "X"
   ]
  },
  {
   "cell_type": "markdown",
   "id": "a34f5727",
   "metadata": {},
   "source": [
    "## 2.3.5 Basic Properties of Tensor Arithmetic <a name=\"basic\"></a>"
   ]
  },
  {
   "cell_type": "code",
   "execution_count": 13,
   "id": "4d626b1b",
   "metadata": {},
   "outputs": [
    {
     "data": {
      "text/plain": [
       "(tensor([[ 0.,  1.,  2.,  3.],\n",
       "         [ 4.,  5.,  6.,  7.],\n",
       "         [ 8.,  9., 10., 11.],\n",
       "         [12., 13., 14., 15.],\n",
       "         [16., 17., 18., 19.]]),\n",
       " tensor([[ 0.,  2.,  4.,  6.],\n",
       "         [ 8., 10., 12., 14.],\n",
       "         [16., 18., 20., 22.],\n",
       "         [24., 26., 28., 30.],\n",
       "         [32., 34., 36., 38.]]))"
      ]
     },
     "execution_count": 13,
     "metadata": {},
     "output_type": "execute_result"
    }
   ],
   "source": [
    "## Elementwise addition of two matrices \n",
    "A = torch.arange(20, dtype=torch.float32).reshape(5, 4)\n",
    "B = A.clone()  # Assign a copy of `A` to `B` by allocating new memory\n",
    "A, A + B"
   ]
  },
  {
   "cell_type": "code",
   "execution_count": 14,
   "id": "fedf186b",
   "metadata": {},
   "outputs": [
    {
     "data": {
      "text/plain": [
       "tensor([[  0.,   1.,   4.,   9.],\n",
       "        [ 16.,  25.,  36.,  49.],\n",
       "        [ 64.,  81., 100., 121.],\n",
       "        [144., 169., 196., 225.],\n",
       "        [256., 289., 324., 361.]])"
      ]
     },
     "execution_count": 14,
     "metadata": {},
     "output_type": "execute_result"
    }
   ],
   "source": [
    "## Hadamard product: elementwise multiplication of two matrices\n",
    "A * B"
   ]
  },
  {
   "cell_type": "code",
   "execution_count": 16,
   "id": "ef946ba4",
   "metadata": {},
   "outputs": [
    {
     "data": {
      "text/plain": [
       "tensor([[[ 2,  3,  4,  5],\n",
       "         [ 6,  7,  8,  9],\n",
       "         [10, 11, 12, 13]],\n",
       "\n",
       "        [[14, 15, 16, 17],\n",
       "         [18, 19, 20, 21],\n",
       "         [22, 23, 24, 25]]])"
      ]
     },
     "execution_count": 16,
     "metadata": {},
     "output_type": "execute_result"
    }
   ],
   "source": [
    "## Multiplying or adding a tensor by a scalar will perform elementwise multiplication and addition \n",
    "a = 2\n",
    "X = torch.arange(24).reshape(2, 3, 4)\n",
    "a + X"
   ]
  },
  {
   "cell_type": "code",
   "execution_count": 17,
   "id": "16e2d6d8",
   "metadata": {},
   "outputs": [
    {
     "data": {
      "text/plain": [
       "tensor([[[ 0,  2,  4,  6],\n",
       "         [ 8, 10, 12, 14],\n",
       "         [16, 18, 20, 22]],\n",
       "\n",
       "        [[24, 26, 28, 30],\n",
       "         [32, 34, 36, 38],\n",
       "         [40, 42, 44, 46]]])"
      ]
     },
     "execution_count": 17,
     "metadata": {},
     "output_type": "execute_result"
    }
   ],
   "source": [
    "a * X"
   ]
  },
  {
   "cell_type": "markdown",
   "id": "e31e5a2a",
   "metadata": {},
   "source": [
    "## 2.3.6 Reduction <a name=\"reduction\"></a>\n"
   ]
  },
  {
   "cell_type": "code",
   "execution_count": 18,
   "id": "7979824a",
   "metadata": {},
   "outputs": [
    {
     "data": {
      "text/plain": [
       "(tensor([0., 1., 2., 3.]), tensor(6.))"
      ]
     },
     "execution_count": 18,
     "metadata": {},
     "output_type": "execute_result"
    }
   ],
   "source": [
    "x = torch.arange(4, dtype=torch.float32)\n",
    "x, x.sum()"
   ]
  },
  {
   "cell_type": "code",
   "execution_count": 20,
   "id": "5b561502",
   "metadata": {},
   "outputs": [
    {
     "data": {
      "text/plain": [
       "(tensor([[ 0.,  1.,  2.,  3.],\n",
       "         [ 4.,  5.,  6.,  7.],\n",
       "         [ 8.,  9., 10., 11.],\n",
       "         [12., 13., 14., 15.],\n",
       "         [16., 17., 18., 19.]]),\n",
       " tensor(190.))"
      ]
     },
     "execution_count": 20,
     "metadata": {},
     "output_type": "execute_result"
    }
   ],
   "source": [
    "A, A.sum()"
   ]
  },
  {
   "cell_type": "code",
   "execution_count": 21,
   "id": "e4f91782",
   "metadata": {},
   "outputs": [
    {
     "data": {
      "text/plain": [
       "(tensor([40., 45., 50., 55.]), torch.Size([4]))"
      ]
     },
     "execution_count": 21,
     "metadata": {},
     "output_type": "execute_result"
    }
   ],
   "source": [
    "## Specifying axis=0 will reduce the rows dimension (axis 1) by summing up elements of all the rows.\n",
    "A_sum_axis0 = A.sum(axis=0)\n",
    "A_sum_axis0, A_sum_axis0.shape"
   ]
  },
  {
   "cell_type": "code",
   "execution_count": 22,
   "id": "93b8c5f4",
   "metadata": {},
   "outputs": [
    {
     "data": {
      "text/plain": [
       "(tensor([ 6., 22., 38., 54., 70.]), torch.Size([5]))"
      ]
     },
     "execution_count": 22,
     "metadata": {},
     "output_type": "execute_result"
    }
   ],
   "source": [
    "## Specifying axis=1 will reduce the column dimension (axis 1) by summing up elements of all the columns.\n",
    "A_sum_axis1 = A.sum(axis=1)\n",
    "A_sum_axis1, A_sum_axis1.shape"
   ]
  },
  {
   "cell_type": "code",
   "execution_count": 23,
   "id": "9551b50f",
   "metadata": {},
   "outputs": [
    {
     "data": {
      "text/plain": [
       "tensor(190.)"
      ]
     },
     "execution_count": 23,
     "metadata": {},
     "output_type": "execute_result"
    }
   ],
   "source": [
    "## Reducing a matrix along both rows and columns via summation is equivalent to summing up all the elements of the matrix.\n",
    "A.sum(axis=[0, 1])  # Same as `A.sum()`"
   ]
  },
  {
   "cell_type": "code",
   "execution_count": 25,
   "id": "730e99fa",
   "metadata": {},
   "outputs": [
    {
     "data": {
      "text/plain": [
       "(tensor(9.5000), tensor(9.5000))"
      ]
     },
     "execution_count": 25,
     "metadata": {},
     "output_type": "execute_result"
    }
   ],
   "source": [
    "## Two ways of calculating mean\n",
    "A.mean(), A.sum() / A.numel()"
   ]
  },
  {
   "cell_type": "markdown",
   "id": "d9d6f57f",
   "metadata": {},
   "source": [
    "## 2.3.7 Dot Products <a name=\"dot\"></a>"
   ]
  },
  {
   "cell_type": "markdown",
   "id": "878d32e5",
   "metadata": {},
   "source": [
    "## 2.3.8 Matrix-Vector Products <a name=\"mvprod\"></a>"
   ]
  },
  {
   "cell_type": "markdown",
   "id": "4eedf11a",
   "metadata": {},
   "source": [
    "## 2.3.9 Matrix-Matrix Multiplication <a name=\"mmm\"></a>"
   ]
  },
  {
   "cell_type": "markdown",
   "id": "01f50959",
   "metadata": {},
   "source": [
    "## 2.3.10 Norms <a name=\"norm\"></a>"
   ]
  },
  {
   "cell_type": "markdown",
   "id": "f6aad6ba",
   "metadata": {},
   "source": [
    "## 2.3.12 Summary <a name=\"summary\"></a>"
   ]
  }
 ],
 "metadata": {
  "kernelspec": {
   "display_name": "py39",
   "language": "python",
   "name": "py39"
  },
  "language_info": {
   "codemirror_mode": {
    "name": "ipython",
    "version": 3
   },
   "file_extension": ".py",
   "mimetype": "text/x-python",
   "name": "python",
   "nbconvert_exporter": "python",
   "pygments_lexer": "ipython3",
   "version": "3.7.7"
  }
 },
 "nbformat": 4,
 "nbformat_minor": 5
}
