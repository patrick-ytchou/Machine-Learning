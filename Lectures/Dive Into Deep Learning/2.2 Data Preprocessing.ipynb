{
 "cells": [
  {
   "cell_type": "markdown",
   "id": "34b92746",
   "metadata": {},
   "source": [
    "# 2.2. Data Preprocessing\n",
    "\n",
    "Pandas is the most widely used preprocessing packages, and luckily it can work seemlessly with tensors. In this notebook we will briefly walk through steps for preprocessing raw data with pandas and converting them into the tensor format.\n",
    "\n",
    "## Table of Contents\n",
    "\n",
    "[2.2.1 Reading the Dataset](#d)\n",
    "\n",
    "[2.2.2 Handling Missing Data](#missing)\n",
    "\n",
    "[2.2.3 Conversion to the Tensor Format](#conv)\n",
    "\n",
    "[2.2.4 Summary](#summary)\n",
    "\n",
    "## 2.2.1 Reading the Dataset <a name=\"d\"></a>"
   ]
  },
  {
   "cell_type": "code",
   "execution_count": 4,
   "id": "de2eb0ec",
   "metadata": {},
   "outputs": [],
   "source": [
    "# Create synthetic data\n",
    "import os\n",
    "\n",
    "os.makedirs(os.path.join('..','data'), exist_ok=True)\n",
    "data_file = os.path.join('..', 'data', 'house_tiny.csv')\n",
    "with open(data_file, 'w') as f:\n",
    "    f.write('NumRooms,Alley,Price\\n')  # Column names\n",
    "    f.write('NA,Pave,127500\\n')  # Each row represents a data example\n",
    "    f.write('2,NA,106000\\n')\n",
    "    f.write('4,NA,178100\\n')\n",
    "    f.write('NA,NA,140000\\n')"
   ]
  },
  {
   "cell_type": "code",
   "execution_count": 5,
   "id": "f2476883",
   "metadata": {},
   "outputs": [
    {
     "name": "stdout",
     "output_type": "stream",
     "text": [
      "   NumRooms Alley   Price\n",
      "0       NaN  Pave  127500\n",
      "1       2.0   NaN  106000\n",
      "2       4.0   NaN  178100\n",
      "3       NaN   NaN  140000\n"
     ]
    }
   ],
   "source": [
    "import pandas as pd\n",
    "\n",
    "data = pd.read_csv(data_file)\n",
    "print(data)"
   ]
  },
  {
   "cell_type": "markdown",
   "id": "4fcb9cca",
   "metadata": {},
   "source": [
    "## 2.2.2. Handling Missing Data <a name=\"missing\"></a>\n",
    "\n",
    "Typical methods to handle missing data includes **imputation and deletion**, where **imputation** replaces missing values with substituted ones, while **deletion** ignores missing values. Here we will consider imputation."
   ]
  },
  {
   "cell_type": "code",
   "execution_count": 6,
   "id": "46edd473",
   "metadata": {},
   "outputs": [
    {
     "name": "stdout",
     "output_type": "stream",
     "text": [
      "   NumRooms Alley\n",
      "0       3.0  Pave\n",
      "1       2.0   NaN\n",
      "2       4.0   NaN\n",
      "3       3.0   NaN\n"
     ]
    }
   ],
   "source": [
    "inputs, outputs = data.iloc[:, 0:2], data.iloc[:, 2]\n",
    "inputs = inputs.fillna(inputs.mean())\n",
    "print(inputs)"
   ]
  },
  {
   "cell_type": "markdown",
   "id": "5dcf999b",
   "metadata": {},
   "source": [
    "The column **Alley** is treated as a **category**; hence there's no imputation happening on that column. Instead, what we can do is to conduct one-hot encoding for the categorical column."
   ]
  },
  {
   "cell_type": "code",
   "execution_count": 9,
   "id": "6cc46489",
   "metadata": {},
   "outputs": [
    {
     "name": "stdout",
     "output_type": "stream",
     "text": [
      "   NumRooms  Alley_Pave  Alley_nan\n",
      "0       3.0           1          0\n",
      "1       2.0           0          1\n",
      "2       4.0           0          1\n",
      "3       3.0           0          1\n"
     ]
    }
   ],
   "source": [
    "# Create one-hot columns considering NA in categorical columns as a valid category\n",
    "inputs = pd.get_dummies(inputs, dummy_na=True)\n",
    "print(inputs)"
   ]
  },
  {
   "cell_type": "markdown",
   "id": "7fcb33df",
   "metadata": {},
   "source": [
    "## 2.2.3. Conversion to the Tensor Format <a name=\"conv\"></a>\n",
    "\n",
    "Since all the entries in inputs and outputs are numerical, they can be converted to the tensor format."
   ]
  },
  {
   "cell_type": "code",
   "execution_count": 10,
   "id": "bf7f34b2",
   "metadata": {},
   "outputs": [
    {
     "data": {
      "text/plain": [
       "(tensor([[3., 1., 0.],\n",
       "         [2., 0., 1.],\n",
       "         [4., 0., 1.],\n",
       "         [3., 0., 1.]], dtype=torch.float64),\n",
       " tensor([127500, 106000, 178100, 140000]))"
      ]
     },
     "execution_count": 10,
     "metadata": {},
     "output_type": "execute_result"
    }
   ],
   "source": [
    "import torch\n",
    "\n",
    "X, y = torch.tensor(inputs.values), torch.tensor(outputs.values)\n",
    "X, y"
   ]
  },
  {
   "cell_type": "markdown",
   "id": "8364f32f",
   "metadata": {},
   "source": [
    "## 2.2.4. Summary  <a name=\"summary\"></a>\n",
    "\n",
    "Like many other extension packages in the vast ecosystem of Python, pandas can work together with tensors.\n",
    "\n",
    "Imputation and deletion can be used to handle missing data."
   ]
  }
 ],
 "metadata": {
  "kernelspec": {
   "display_name": "py39",
   "language": "python",
   "name": "py39"
  },
  "language_info": {
   "codemirror_mode": {
    "name": "ipython",
    "version": 3
   },
   "file_extension": ".py",
   "mimetype": "text/x-python",
   "name": "python",
   "nbconvert_exporter": "python",
   "pygments_lexer": "ipython3",
   "version": "3.7.7"
  }
 },
 "nbformat": 4,
 "nbformat_minor": 5
}
